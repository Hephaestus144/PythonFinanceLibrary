{
 "cells": [
  {
   "cell_type": "code",
   "execution_count": 1,
   "metadata": {
    "ExecuteTime": {
     "end_time": "2021-08-22T10:21:26.602358Z",
     "start_time": "2021-08-22T10:21:24.872351Z"
    }
   },
   "outputs": [],
   "source": [
    "%run 0_preamble.ipynb"
   ]
  },
  {
   "cell_type": "markdown",
   "metadata": {
    "toc": true
   },
   "source": [
    "<h1>Table of Contents<span class=\"tocSkip\"></span></h1>\n",
    "<div class=\"toc\"><ul class=\"toc-item\"><li><span><a href=\"#Interest-Rates\" data-toc-modified-id=\"Interest-Rates-1\"><span class=\"toc-item-num\">1&nbsp;&nbsp;</span>Interest Rates</a></span><ul class=\"toc-item\"><li><span><a href=\"#Interest-Rate-Curve\" data-toc-modified-id=\"Interest-Rate-Curve-1.1\"><span class=\"toc-item-num\">1.1&nbsp;&nbsp;</span>Interest Rate Curve</a></span></li><li><span><a href=\"#Interest-Rate-Compounding\" data-toc-modified-id=\"Interest-Rate-Compounding-1.2\"><span class=\"toc-item-num\">1.2&nbsp;&nbsp;</span>Interest Rate Compounding</a></span></li><li><span><a href=\"#Discount-Factors\" data-toc-modified-id=\"Discount-Factors-1.3\"><span class=\"toc-item-num\">1.3&nbsp;&nbsp;</span>Discount Factors</a></span></li></ul></li></ul></div>"
   ]
  },
  {
   "cell_type": "markdown",
   "metadata": {
    "collapsed": true,
    "pycharm": {
     "name": "#%% md\n"
    }
   },
   "source": [
    "# Interest Rates\n",
    "\n",
    "* Interest rates are the result of multiple concepts:\n",
    "  * **Opportunity Cost** (money loaned could have been used for something else)\n",
    "  * **Inflation** (purchasing power of money diminishes with time)\n",
    "  * **Credit** (people with poorer credit scores are charged higher interest)\n",
    "  * **Funding** (one needs to get money from somewhere to loan it)\n",
    "  * **Liquidity** (one needs incoming cashflows to offset your own liabilities)\n",
    "* Theoretically it would be preferrably to decompose interest rates into each of these components but this is difficult and only something that we've recently started trying to do. At the risk of beating a dead horse if \n",
    "$$\n",
    "\\text{Interest rate} = \\text{Inflation} + \\text{Credit} + \\text{Funding} + \\text{Liqudity} + \\ldots\n",
    "$$\n",
    "then how do we solve for each of the components?\n",
    "\n",
    "<br/>\n",
    "\n",
    "## Interest Rate Curve\n",
    "* Interest rates vary for duration/tenor\n",
    "* Not as simple as interest rates are lower in the short end and higher in the long end.\n",
    "* <font color=\"red\">Plot example</font> \n",
    "* Curve is constructed out of financial instruments at node points.\n",
    "  This is known as <font color=\"OliveDrab\">bootstrapping</font>.\n",
    "* The interest rate curve is like gravity. We can't directly observe gravity but we know it's there.\n",
    "* Much like when Einstein realised our understanding of gravity was incomplete post 2008 we realised our understanding of pricing derivatives was incomplete and hence so was our understanding of interest rate curves.\n",
    "* Time value of money. \n",
    "* <font color=\"red\">Include animation of interest rates discounting</font>\n",
    "* Give analogy to vectors on a curved space.\n",
    "\n",
    "## Interest Rate Compounding\n",
    "* Compounding of interest rates\n",
    "* $e=2.7182818\\ldots$ was first introduced due to interest rates.\n",
    "$$\n",
    "e = \\lim_{n\\rightarrow \\infty} \\left( 1 + \\frac{1}{n}\\right)^n\n",
    "$$\n",
    "$$\n",
    "e^r = \\lim_{n\\rightarrow \\infty} \\left( 1 + \\frac{r}{n}\\right)^n\n",
    "$$\n",
    "* Nominal interest rate $r$ (doesn't take compounding into effect). Effective interest rate $\\tilde{r}$ takes compounding into account.\n",
    "* Annual compounding:\n",
    "$$\n",
    "\\tilde{r} = (1 + r)^1\n",
    "$$\n",
    "* Semi-annual compounding:\n",
    "$$\n",
    "\\tilde{r} = \\left(1 + \\frac{r}{2}\\right)^2\n",
    "$$\n",
    "* Quarterly compounding:\n",
    "$$\n",
    "\\tilde{r} = \\left(1 + \\frac{r}{4}\\right)^4\n",
    "$$\n",
    "* Monthly compounding:\n",
    "$$\n",
    "\\tilde{r} = \\left(1 + \\frac{r}{12}\\right)^{12}\n",
    "$$\n",
    "* In general...\n",
    "$$\n",
    "\\tilde{r} = \\left(1 + \\frac{r}{n}\\right)^{n}\n",
    "$$\n",
    "\n",
    "And if we invest for $T$ years:\n",
    "$$\n",
    "\\left(e^r\\right)^T = e^{rT} = \\lim_{n\\rightarrow\\infty}\\left(1 + \\frac{r}{n}\\right)^{nT}\n",
    "$$\n",
    "\n",
    "## Discount Factors\n",
    "* Dealing with interest rates, due to considerations of compounding, is difficult.\n",
    "* \n",
    "\\begin{align}\n",
    "\\left(1 + \\frac{r_4}{4}\\right)^4 = \\left(1 + \\frac{r_{12}}{12}\\right)^{12}\n",
    "\\end{align}\n",
    "\n",
    "$$\n",
    "r_{12} = 4\\left[\\left(1 + \\frac{r_4}{4}\\right)^\\frac{1}{3} - 1 \\right]\n",
    "$$\n",
    "\n",
    "* But no matter the compounding convention the discount factor is identical for the same time period $T$.\n",
    "$$\n",
    "P(0,T) = e^{-r_cT} = \\left(1 + \\frac{r_4}{4}\\right)^{-4T} = \\left(1 + \\frac{r}{12}\\right)^{-12T}\n",
    "$$"
   ]
  }
 ],
 "metadata": {
  "kernelspec": {
   "display_name": "Python 3 (ipykernel)",
   "language": "python",
   "name": "python3"
  },
  "language_info": {
   "codemirror_mode": {
    "name": "ipython",
    "version": 3
   },
   "file_extension": ".py",
   "mimetype": "text/x-python",
   "name": "python",
   "nbconvert_exporter": "python",
   "pygments_lexer": "ipython3",
   "version": "3.9.6"
  },
  "toc": {
   "base_numbering": 1,
   "nav_menu": {},
   "number_sections": true,
   "sideBar": true,
   "skip_h1_title": false,
   "title_cell": "Table of Contents",
   "title_sidebar": "Contents",
   "toc_cell": true,
   "toc_position": {},
   "toc_section_display": true,
   "toc_window_display": true
  },
  "varInspector": {
   "cols": {
    "lenName": 16,
    "lenType": 16,
    "lenVar": 40
   },
   "kernels_config": {
    "python": {
     "delete_cmd_postfix": "",
     "delete_cmd_prefix": "del ",
     "library": "var_list.py",
     "varRefreshCmd": "print(var_dic_list())"
    },
    "r": {
     "delete_cmd_postfix": ") ",
     "delete_cmd_prefix": "rm(",
     "library": "var_list.r",
     "varRefreshCmd": "cat(var_dic_list()) "
    }
   },
   "types_to_exclude": [
    "module",
    "function",
    "builtin_function_or_method",
    "instance",
    "_Feature"
   ],
   "window_display": false
  }
 },
 "nbformat": 4,
 "nbformat_minor": 1
}
