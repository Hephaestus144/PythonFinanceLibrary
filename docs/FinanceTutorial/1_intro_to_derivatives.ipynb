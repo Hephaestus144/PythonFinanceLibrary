{
 "cells": [
  {
   "cell_type": "code",
   "execution_count": 2,
   "metadata": {
    "ExecuteTime": {
     "end_time": "2021-08-22T10:20:52.968711Z",
     "start_time": "2021-08-22T10:20:51.134712Z"
    }
   },
   "outputs": [],
   "source": [
    "%run 0_preamble.ipynb"
   ]
  },
  {
   "cell_type": "markdown",
   "metadata": {
    "toc": true
   },
   "source": [
    "<h1>Table of Contents<span class=\"tocSkip\"></span></h1>\n",
    "<div class=\"toc\"><ul class=\"toc-item\"><li><span><a href=\"#Introduction-to-Derivatives\" data-toc-modified-id=\"Introduction-to-Derivatives-1\"><span class=\"toc-item-num\">1&nbsp;&nbsp;</span>Introduction to Derivatives</a></span><ul class=\"toc-item\"><li><span><a href=\"#A-Brief-Digression:-Economics\" data-toc-modified-id=\"A-Brief-Digression:-Economics-1.1\"><span class=\"toc-item-num\">1.1&nbsp;&nbsp;</span>A Brief Digression: Economics</a></span></li><li><span><a href=\"#What-is-the-Point?\" data-toc-modified-id=\"What-is-the-Point?-1.2\"><span class=\"toc-item-num\">1.2&nbsp;&nbsp;</span>What is the Point?</a></span></li><li><span><a href=\"#What-is-a-Derivative?\" data-toc-modified-id=\"What-is-a-Derivative?-1.3\"><span class=\"toc-item-num\">1.3&nbsp;&nbsp;</span>What is a Derivative?</a></span></li><li><span><a href=\"#What-are-Derivatives-Used-For?\" data-toc-modified-id=\"What-are-Derivatives-Used-For?-1.4\"><span class=\"toc-item-num\">1.4&nbsp;&nbsp;</span>What are Derivatives Used For?</a></span><ul class=\"toc-item\"><li><span><a href=\"#Hedging\" data-toc-modified-id=\"Hedging-1.4.1\"><span class=\"toc-item-num\">1.4.1&nbsp;&nbsp;</span>Hedging</a></span></li><li><span><a href=\"#Speculation\" data-toc-modified-id=\"Speculation-1.4.2\"><span class=\"toc-item-num\">1.4.2&nbsp;&nbsp;</span>Speculation</a></span></li></ul></li><li><span><a href=\"#Pricing\" data-toc-modified-id=\"Pricing-1.5\"><span class=\"toc-item-num\">1.5&nbsp;&nbsp;</span>Pricing</a></span><ul class=\"toc-item\"><li><span><a href=\"#Analytical-Formula\" data-toc-modified-id=\"Analytical-Formula-1.5.1\"><span class=\"toc-item-num\">1.5.1&nbsp;&nbsp;</span>Analytical Formula</a></span></li><li><span><a href=\"#PDEs\" data-toc-modified-id=\"PDEs-1.5.2\"><span class=\"toc-item-num\">1.5.2&nbsp;&nbsp;</span>PDEs</a></span></li><li><span><a href=\"#Monte-Carlo\" data-toc-modified-id=\"Monte-Carlo-1.5.3\"><span class=\"toc-item-num\">1.5.3&nbsp;&nbsp;</span>Monte Carlo</a></span></li></ul></li><li><span><a href=\"#Derivative-Examples\" data-toc-modified-id=\"Derivative-Examples-1.6\"><span class=\"toc-item-num\">1.6&nbsp;&nbsp;</span>Derivative Examples</a></span><ul class=\"toc-item\"><li><span><a href=\"#Commodity-Forward\" data-toc-modified-id=\"Commodity-Forward-1.6.1\"><span class=\"toc-item-num\">1.6.1&nbsp;&nbsp;</span>Commodity Forward</a></span></li><li><span><a href=\"#Equity-Option\" data-toc-modified-id=\"Equity-Option-1.6.2\"><span class=\"toc-item-num\">1.6.2&nbsp;&nbsp;</span>Equity Option</a></span></li></ul></li><li><span><a href=\"#Why-are-Derivatives-&quot;Difficult&quot;\" data-toc-modified-id=\"Why-are-Derivatives-&quot;Difficult&quot;-1.7\"><span class=\"toc-item-num\">1.7&nbsp;&nbsp;</span>Why are Derivatives \"Difficult\"</a></span></li></ul></li></ul></div>"
   ]
  },
  {
   "cell_type": "markdown",
   "metadata": {
    "pycharm": {
     "name": "#%% md\n"
    }
   },
   "source": [
    "# Introduction to Derivatives\n",
    "\n",
    "## A Brief Digression: Economics\n",
    "\n",
    "<ul>\n",
    "    <li> Economics is really about psychology (see <i>Kahneman</i>, <b>Thinking Fast and Slow</b>, et al)</li>\n",
    "    <li> <b>Gold</b> has <i>low utility</i>:\n",
    "        <ul>\n",
    "            <li><b>Copper</b> is a better conductor of heat,</li>\n",
    "            <li><b>Silver</b>\n",
    "                is a better conductor of electricity,</li>\n",
    "            <li><b>Rhenium</b> and <b>Rhodium</b> are stronger (used in crucibles, aeroplane turbines etc.),</li>\n",
    "            <li>Gold doesn't corrode so it will be there for a long time i.e. its uselessness is permanent.</li>\n",
    "        </ul>\n",
    "    </li>\n",
    "    <li>Despite all this gold has \"value\" because people believe it has \"value\". Egyptian pharaohs covered their sarcophagi in it, humans make jewellery out of it therefore it must have value, right? <i>Right?</i>\n",
    "    <blockquote>Gold gets dug out of the ground in Africa… Then we melt it down, dig another hole, bury it again and pay people to stand around guarding it. It has no utility. Anyone watching from Mars would be scratching their head.<br/><br/> <i>-Warren Buffet</i></blockquote> </li>\n",
    "    <li>Likewise, Dollars have value because people collectively believe they have value. As do Rands, Rupees, Yen and all the other currencies.\n",
    "        <ul>\n",
    "            <li><font size=\"-1\">In the *Bretton Woods system* currency was pegged to the gold price i.e. the country had to hold gold reserves. The Vietnam war caused the first chinks to appear in this system and Nixon, under advisement from Paul Samuelson, abolished it.</font></li>\n",
    "        </ul>\n",
    "        <li>Presently a currency's value is an expression of confidence in the socio-economic standing of its nation.\n",
    "    </li>\n",
    "    <li>Art (according to Oscar Wilde) has no Value yet Cézanne's the card players sold for $285m in 2001.\n",
    "    <img src=\"Assets/Cezanne_The_Card_Players.jpg\"/>\n",
    "    </li>\n",
    "    <li>I believe a lot of economic concepts are self-fulfilling e.g. inflation exists because we believe it exists.</li>\n",
    "</ul>\n",
    "\n",
    "## What is the Point?\n",
    "<ul>\n",
    "    <li><p>Value is largely subjective.</p> \n",
    "    <p>To a degree we are trying to quantify the unquantifiable.</p></li>\n",
    "    <li>Value is whatever a willing buyer will pay a willing seller.</li>\n",
    "    <li><p>There is no absolute mathematical formulae that will solve for any arbitrary economic \"value\".</p>\n",
    "    <p>It is a function of supply and demand. It is as futile as trying to solve for the value of <math>x</math> in <math>x + y = 10</math> when <math>y</math> is unknown.</p>\n",
    "    <p>Much like what is the value of a chocolate is ill posed. But the question of what it's value is given the values of the ingredients and the required profit margin makes it well posed. We will revisit this in the section on derivatives next.</p></li>\n",
    "    <li>Some economists may argue I am discussing value when I mean price but I will leave that for that for them to unpack.</li>\n",
    "</ul>\n",
    "\n",
    "---\n",
    "## What is a Derivative?\n",
    "  * Market *underlyings*:\n",
    "    * Interest rates\n",
    "    * Foreign Exchange (FX) rates\n",
    "    * Equities/Stocks/Shares\n",
    "    * Commodities: Agris, Energy, Base Metals, Precious Metals\n",
    "  * The underlyings are like inputs to a function - the financial instrument/contract:\n",
    "    \\begin{equation}\n",
    "    f(x,y,z) = x^2 + yz\n",
    "    \\end{equation}\n",
    "  * Expected, discounted cash flows\n",
    "    \\begin{equation}\n",
    "    V(t) = \\mathbb{E}_t[P(t,T)V(T)]\n",
    "    \\end{equation}\n",
    "\n",
    "---\n",
    "## What are Derivatives Used For?\n",
    "### Hedging\n",
    "  * Basically the same as **insurance**.\n",
    "  * (Arguably) The main use of derivatives these days.\n",
    "\n",
    "<br/>  \n",
    "\n",
    "### Speculation\n",
    "  * Basically the same as **gambling**.\n",
    "  * (Arguably) Done more in the past/at hedge funds etc.\n",
    "\n",
    "<br/>  \n",
    "\n",
    "---\n",
    "## Pricing\n",
    "Three main ways of pricing derivatives:\n",
    "    1. Analytical formula e.g. Black-Scholes, Turnbull-Wakeman\n",
    "    2. PDEs (binomial and trinomial trees are special cases of PDEs)\n",
    "    3. Monte Carlo (using SDEs)\n",
    "\n",
    "<br/>  \n",
    "\n",
    "### Analytical Formula\n",
    "  * First prize\n",
    "  * Efficient\n",
    "  * Efficient formulae for Greeks (sensitivities) and other metrics.\n",
    "  * But difficult to derive... if it even exists.\n",
    "  * Example: <font color=\"OliveDrab\">**Black-Scholes equation**</font>\n",
    "  $$\n",
    "  V(t) = S(T)\\Phi(d_1) - Ke^{-r(T - t)}\\Phi(d_2)\n",
    "  $$\n",
    "<br/>  \n",
    "\n",
    "### PDEs\n",
    "  * Second prize\n",
    "  * More efficient than Monte Carlo\n",
    "  * Can be difficult to implement\n",
    "  * Suffers from *curse of dimensionality* i.e. if you have more than 3 variables it won't converge to a solution.\n",
    "  * Example: <font color=\"OliveDrab\">**Black-Scholes PDE**</font>\n",
    "  $$\n",
    "  \\frac{1}{2}\\sigma^2 S^2 \\frac{\\partial^2 V}{\\partial S^2} + rS \\frac{\\partial V}{\\partial S} + \\frac{\\partial V}{\\partial t} = rV\n",
    "  $$\n",
    "  \n",
    "<br/>  \n",
    "\n",
    "### Monte Carlo\n",
    "  * Last place\n",
    "  * Inefficient for pricing\n",
    "  * Inefficient for Greeks (sensitivites) (Automatic Adjoint Different addresses this to some degree)\n",
    "  * Difficult to calibrate model parameters (usually)\n",
    "  * Easy to implement\n",
    "  * Example: **Geometric Brownian Motion** (SDE: Stochastic Differential Equation)\n",
    "  $$\n",
    "  \\mathrm{d}S(t) = \\mu S(t) \\mathrm{d}t + \\sigma(t) S(t)\\mathrm{d}W(t)\n",
    "  $$\n",
    "<br/>  \n",
    "\n",
    "---\n",
    "## Derivative Examples\n",
    "### Commodity Forward\n",
    "  * A farmer wants to ensure he gets at least some amount $K$ for his corn/wheat/sorghum etc. some future date $T$.\n",
    "  * The commodity price at time $T$ is $S(T)$.\n",
    "  * Then the value of the forward contract is $V(T)$ given by the below.\n",
    "$$\n",
    "V(T) = S(T) - K\n",
    "$$\n",
    "  * Since the risk is *symmetric* here (each counterparty on either side of the contract stand to gain or lose) there is no *premium*.\n",
    "  \n",
    "  <br/>\n",
    "  \n",
    "### Equity Option\n",
    "Classic example of a derivative:\n",
    "$$\n",
    "V(T) = \\max\\{S(T) - K, 0\\}\n",
    "$$\n",
    "\n",
    "---\n",
    "## Why are Derivatives \"Difficult\"\n",
    "  * Abstraction makes things challenging.\n",
    "  * How things evolved:\n",
    "     1. **(No Abstraction)** We used to barter goats for sheep etc.\n",
    "     2. **($1^\\text{st}$ Level of Abstraction)** We introduced money to make exchange 'simpler'.\n",
    "     3. **($2^\\text{nd}$ Level of Abstraction)** With money came things like interest rates, stocks, exchange rates etc.\n",
    "     4. **($3^\\text{rd}$ Level of Abstraction)** Then we started writing complex contracts on the above: <font color=\"OliveDrab\">***Derivatives***</font>\n",
    "     5. **($4^\\text{th}$ Level of Abstraction)** c. 2008 We realised we weren't appropriately accounting for counterparty credit risk, own credit risk, funding, liquidity, capital costs, margining costs etc. etc. in derivative pricing: <font color=\"OliveDrab\">***xVA***</font>\n",
    "  * This abstraction confuses people. Essentially we're still dealing with concrete objects like goats and sheep but through layers of abstraction and indirecation that gets lost.\n",
    "  * People start to think silly things like a derivative, since it is mathematical, it must some how be *absolute*. If its value is just some function $f(x,y,z)$ of some inputs then we always know its value. But what if we don't know what $x$, $y$ and $z$ even are...\n",
    "  * The value of everything is driven by the law of supply and demand, even derivatives. "
   ]
  }
 ],
 "metadata": {
  "kernelspec": {
   "display_name": "Python 3 (ipykernel)",
   "language": "python",
   "name": "python3"
  },
  "language_info": {
   "codemirror_mode": {
    "name": "ipython",
    "version": 3
   },
   "file_extension": ".py",
   "mimetype": "text/x-python",
   "name": "python",
   "nbconvert_exporter": "python",
   "pygments_lexer": "ipython3",
   "version": "3.9.6"
  },
  "toc": {
   "base_numbering": 1,
   "nav_menu": {},
   "number_sections": true,
   "sideBar": true,
   "skip_h1_title": false,
   "title_cell": "Table of Contents",
   "title_sidebar": "Contents",
   "toc_cell": true,
   "toc_position": {},
   "toc_section_display": true,
   "toc_window_display": true
  },
  "varInspector": {
   "cols": {
    "lenName": 16,
    "lenType": 16,
    "lenVar": 40
   },
   "kernels_config": {
    "python": {
     "delete_cmd_postfix": "",
     "delete_cmd_prefix": "del ",
     "library": "var_list.py",
     "varRefreshCmd": "print(var_dic_list())"
    },
    "r": {
     "delete_cmd_postfix": ") ",
     "delete_cmd_prefix": "rm(",
     "library": "var_list.r",
     "varRefreshCmd": "cat(var_dic_list()) "
    }
   },
   "types_to_exclude": [
    "module",
    "function",
    "builtin_function_or_method",
    "instance",
    "_Feature"
   ],
   "window_display": false
  }
 },
 "nbformat": 4,
 "nbformat_minor": 1
}
